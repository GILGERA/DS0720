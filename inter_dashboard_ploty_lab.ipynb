{
    "cells": [
        {
            "cell_type": "code",
            "execution_count": 1,
            "id": "947877de",
            "metadata": {},
            "outputs": [
                {
                    "name": "stderr",
                    "output_type": "stream",
                    "text": "/var/folders/jr/3lphnp956h5_k0h34k1tgkrr0000gn/T/ipykernel_27255/286542778.py:4: UserWarning: \nThe dash_html_components package is deprecated. Please replace\n`import dash_html_components as html` with `from dash import html`\n  import dash_html_components as html\n/var/folders/jr/3lphnp956h5_k0h34k1tgkrr0000gn/T/ipykernel_27255/286542778.py:5: UserWarning: \nThe dash_core_components package is deprecated. Please replace\n`import dash_core_components as dcc` with `from dash import dcc`\n  import dash_core_components as dcc\n"
                }
            ],
            "source": "import pandas as pd\nimport plotly.graph_objects as go\nimport dash\nimport dash_html_components as html\nimport dash_core_components as dcc\nfrom dash.dependencies import Input, Output\nimport plotly.express as px"
        },
        {
            "cell_type": "code",
            "execution_count": 2,
            "id": "8a8f2932",
            "metadata": {},
            "outputs": [],
            "source": "spacex_df = pd.read_csv(\"https://cf-courses-data.s3.us.cloud-object-storage.appdomain.cloud/IBM-DS0321EN-SkillsNetwork/datasets/spacex_launch_dash.csv\")\nmax_payload = spacex_df['Payload Mass (kg)'].max()\nmin_payload = spacex_df['Payload Mass (kg)'].min()"
        },
        {
            "cell_type": "code",
            "execution_count": 3,
            "id": "a6a8ea6d",
            "metadata": {},
            "outputs": [
                {
                    "data": {
                        "text/html": "<div>\n<style scoped>\n    .dataframe tbody tr th:only-of-type {\n        vertical-align: middle;\n    }\n\n    .dataframe tbody tr th {\n        vertical-align: top;\n    }\n\n    .dataframe thead th {\n        text-align: right;\n    }\n</style>\n<table border=\"1\" class=\"dataframe\">\n  <thead>\n    <tr style=\"text-align: right;\">\n      <th></th>\n      <th>Unnamed: 0</th>\n      <th>Flight Number</th>\n      <th>Launch Site</th>\n      <th>class</th>\n      <th>Payload Mass (kg)</th>\n      <th>Booster Version</th>\n      <th>Booster Version Category</th>\n    </tr>\n  </thead>\n  <tbody>\n    <tr>\n      <th>0</th>\n      <td>0</td>\n      <td>1</td>\n      <td>CCAFS LC-40</td>\n      <td>0</td>\n      <td>0.0</td>\n      <td>F9 v1.0  B0003</td>\n      <td>v1.0</td>\n    </tr>\n    <tr>\n      <th>1</th>\n      <td>1</td>\n      <td>2</td>\n      <td>CCAFS LC-40</td>\n      <td>0</td>\n      <td>0.0</td>\n      <td>F9 v1.0  B0004</td>\n      <td>v1.0</td>\n    </tr>\n    <tr>\n      <th>2</th>\n      <td>2</td>\n      <td>3</td>\n      <td>CCAFS LC-40</td>\n      <td>0</td>\n      <td>525.0</td>\n      <td>F9 v1.0  B0005</td>\n      <td>v1.0</td>\n    </tr>\n    <tr>\n      <th>3</th>\n      <td>3</td>\n      <td>4</td>\n      <td>CCAFS LC-40</td>\n      <td>0</td>\n      <td>500.0</td>\n      <td>F9 v1.0  B0006</td>\n      <td>v1.0</td>\n    </tr>\n    <tr>\n      <th>4</th>\n      <td>4</td>\n      <td>5</td>\n      <td>CCAFS LC-40</td>\n      <td>0</td>\n      <td>677.0</td>\n      <td>F9 v1.0  B0007</td>\n      <td>v1.0</td>\n    </tr>\n  </tbody>\n</table>\n</div>",
                        "text/plain": "   Unnamed: 0  Flight Number  Launch Site  class  Payload Mass (kg)  \\\n0           0              1  CCAFS LC-40      0                0.0   \n1           1              2  CCAFS LC-40      0                0.0   \n2           2              3  CCAFS LC-40      0              525.0   \n3           3              4  CCAFS LC-40      0              500.0   \n4           4              5  CCAFS LC-40      0              677.0   \n\n  Booster Version Booster Version Category  \n0  F9 v1.0  B0003                     v1.0  \n1  F9 v1.0  B0004                     v1.0  \n2  F9 v1.0  B0005                     v1.0  \n3  F9 v1.0  B0006                     v1.0  \n4  F9 v1.0  B0007                     v1.0  "
                    },
                    "execution_count": 3,
                    "metadata": {},
                    "output_type": "execute_result"
                }
            ],
            "source": "spacex_df.head()"
        },
        {
            "cell_type": "code",
            "execution_count": 4,
            "id": "75e64ae8",
            "metadata": {},
            "outputs": [
                {
                    "data": {
                        "text/html": "<div>\n<style scoped>\n    .dataframe tbody tr th:only-of-type {\n        vertical-align: middle;\n    }\n\n    .dataframe tbody tr th {\n        vertical-align: top;\n    }\n\n    .dataframe thead th {\n        text-align: right;\n    }\n</style>\n<table border=\"1\" class=\"dataframe\">\n  <thead>\n    <tr style=\"text-align: right;\">\n      <th></th>\n      <th>Launch Site</th>\n      <th>class</th>\n      <th>class count</th>\n    </tr>\n  </thead>\n  <tbody>\n    <tr>\n      <th>0</th>\n      <td>CCAFS LC-40</td>\n      <td>0</td>\n      <td>19</td>\n    </tr>\n    <tr>\n      <th>1</th>\n      <td>CCAFS LC-40</td>\n      <td>1</td>\n      <td>7</td>\n    </tr>\n  </tbody>\n</table>\n</div>",
                        "text/plain": "   Launch Site  class  class count\n0  CCAFS LC-40      0           19\n1  CCAFS LC-40      1            7"
                    },
                    "execution_count": 4,
                    "metadata": {},
                    "output_type": "execute_result"
                }
            ],
            "source": "df = spacex_df[spacex_df['Launch Site']=='CCAFS LC-40']\ndf = df.groupby(['Launch Site','class']).size().reset_index(name='class count')\ndf"
        },
        {
            "cell_type": "code",
            "execution_count": 5,
            "id": "344c9554",
            "metadata": {},
            "outputs": [],
            "source": "# Create a dash application\napp = dash.Dash(__name__)"
        },
        {
            "cell_type": "code",
            "execution_count": 6,
            "id": "51b2f249",
            "metadata": {},
            "outputs": [],
            "source": "# Create an app layout\napp.layout = html.Div(children=[html.H1('SpaceX Launch Records Dashboard',\n                                        style={'textAlign': 'center', 'color': '#503D36',\n                                               'font-size': 40}),\n                                html.Br(),\n                                html.Div(dcc.Dropdown(id='id-site', options=[{'label': 'All Sites', 'value': 'ALL'},\n                                                                              {'label': 'CCAFS LC-40', 'value': 'CCAFS LC-40'},\n                                                                              {'label': 'CCAFS SLC-40', 'value': 'CCAFS SLC-40'},\n                                                                              {'label': 'KSC LC-39A', 'value': 'KSC LC-39A'},\n                                                                              {'label': 'VAFB SLC-4E', 'value': 'VAFB SLC-4E'},\n                                                                             ],\n                                         value='ALL', #default value\n                                         placeholder='Select a launch site here',\n                                         searchable=True)),\n                                html.Br(),\n                                html.Div(dcc.Graph(id='success-pie-chart')),\n                                html.Br(),\n                                html.P('Payload range (kg):'),\n                                html.Div(dcc.RangeSlider(id='payload-slider',\n                                                min=0,\n                                                max=10000,\n                                                step=1000,\n                                                value=[min_payload, max_payload]\n                                                )),\n                                html.Div(dcc.Graph(id='success-payload-scatter-chart')),\n                                html.Br(),\n                               ])"
        },
        {
            "cell_type": "code",
            "execution_count": 7,
            "id": "6ff65333",
            "metadata": {},
            "outputs": [],
            "source": "# add callback decorator\n@app.callback(Output(component_id='success-pie-chart', component_property='figure'),\n              Input(component_id='id-site', component_property='value'))\n\n# Add computation to callback function and return pie chart\ndef get_pie_chart(entered_site):\n    # Select site\n    if entered_site == 'ALL':\n        fig = px.pie(spacex_df, values='class',\n                     names='Launch Site',\n                     title='Success Count for all launch sites')\n        return fig\n    else:\n        df = spacex_df[spacex_df['Launch Site']==entered_site]\n        df = df.groupby(['Launch Site','class']).size().reset_index(name='class count')\n        fig = px.pie(df, values='class count',\n                     names='class',\n                     title='Success Count for site {}'.format(entered_site))\n        return fig\n\n@app.callback(Output(component_id='success-payload-scatter-chart',component_property='figure'),\n                [Input(component_id='id-site',component_property='value'),\n                Input(component_id='payload-slider',component_property='value')])\n\ndef scatter(entered_site,payload):\n    filtered_df = spacex_df[spacex_df['Payload Mass (kg)'].between(payload[0],payload[1])]\n    # thought reusing filtered_df may cause issues, but tried it out of curiosity and it seems to be working fine\n    \n    if entered_site=='ALL':\n        fig=px.scatter(filtered_df,x='Payload Mass (kg)',y='class',color='Booster Version Category',title='Success count on Payload mass for all sites')\n        return fig\n    else:\n        fig=px.scatter(filtered_df[filtered_df['Launch Site']==entered_site],x='Payload Mass (kg)',y='class',color='Booster Version Category',title=f\"Success count on Payload mass for site {entered_site}\")\n        return fig"
        },
        {
            "cell_type": "code",
            "execution_count": 8,
            "id": "b6f7e221",
            "metadata": {},
            "outputs": [
                {
                    "name": "stdout",
                    "output_type": "stream",
                    "text": "Dash is running on http://127.0.0.1:8050/\n\n * Serving Flask app \"__main__\" (lazy loading)\n * Environment: production\n\u001b[31m   WARNING: This is a development server. Do not use it in a production deployment.\u001b[0m\n\u001b[2m   Use a production WSGI server instead.\u001b[0m\n * Debug mode: off\n"
                },
                {
                    "name": "stderr",
                    "output_type": "stream",
                    "text": " * Running on http://127.0.0.1:8050/ (Press CTRL+C to quit)\n127.0.0.1 - - [05/Apr/2022 19:28:46] \"GET / HTTP/1.1\" 200 -\n127.0.0.1 - - [05/Apr/2022 19:28:46] \"GET /_dash-component-suites/dash/dcc/async-graph.js HTTP/1.1\" 304 -\n127.0.0.1 - - [05/Apr/2022 19:28:46] \"GET /_dash-component-suites/dash/dcc/async-slider.js HTTP/1.1\" 304 -\n127.0.0.1 - - [05/Apr/2022 19:28:46] \"GET /_dash-component-suites/dash/dcc/async-dropdown.js HTTP/1.1\" 304 -\n127.0.0.1 - - [05/Apr/2022 19:28:46] \"GET /_dash-component-suites/dash/dcc/async-plotlyjs.js HTTP/1.1\" 304 -\n127.0.0.1 - - [05/Apr/2022 19:28:46] \"GET /_dash-layout HTTP/1.1\" 200 -\n127.0.0.1 - - [05/Apr/2022 19:28:46] \"GET /_dash-dependencies HTTP/1.1\" 200 -\n127.0.0.1 - - [05/Apr/2022 19:28:46] \"GET /_dash-component-suites/dash/dcc/async-dropdown.js HTTP/1.1\" 304 -\n127.0.0.1 - - [05/Apr/2022 19:28:46] \"GET /_dash-component-suites/dash/dcc/async-graph.js HTTP/1.1\" 304 -\n127.0.0.1 - - [05/Apr/2022 19:28:46] \"GET /_dash-component-suites/dash/dcc/async-slider.js HTTP/1.1\" 304 -\n127.0.0.1 - - [05/Apr/2022 19:28:46] \"GET /_dash-component-suites/dash/dcc/async-plotlyjs.js HTTP/1.1\" 304 -\n127.0.0.1 - - [05/Apr/2022 19:28:46] \"POST /_dash-update-component HTTP/1.1\" 200 -\n127.0.0.1 - - [05/Apr/2022 19:28:46] \"POST /_dash-update-component HTTP/1.1\" 200 -\n127.0.0.1 - - [05/Apr/2022 19:28:52] \"POST /_dash-update-component HTTP/1.1\" 200 -\n127.0.0.1 - - [05/Apr/2022 19:28:56] \"POST /_dash-update-component HTTP/1.1\" 200 -\n127.0.0.1 - - [05/Apr/2022 19:29:00] \"POST /_dash-update-component HTTP/1.1\" 200 -\n127.0.0.1 - - [05/Apr/2022 19:29:02] \"POST /_dash-update-component HTTP/1.1\" 200 -\n127.0.0.1 - - [05/Apr/2022 19:29:04] \"POST /_dash-update-component HTTP/1.1\" 200 -\n127.0.0.1 - - [05/Apr/2022 19:29:07] \"POST /_dash-update-component HTTP/1.1\" 200 -\n127.0.0.1 - - [05/Apr/2022 19:29:10] \"POST /_dash-update-component HTTP/1.1\" 200 -\n127.0.0.1 - - [05/Apr/2022 19:29:18] \"POST /_dash-update-component HTTP/1.1\" 200 -\n127.0.0.1 - - [05/Apr/2022 19:29:20] \"POST /_dash-update-component HTTP/1.1\" 200 -\n127.0.0.1 - - [05/Apr/2022 19:29:23] \"POST /_dash-update-component HTTP/1.1\" 200 -\n127.0.0.1 - - [05/Apr/2022 19:29:23] \"POST /_dash-update-component HTTP/1.1\" 200 -\n127.0.0.1 - - [05/Apr/2022 19:29:28] \"POST /_dash-update-component HTTP/1.1\" 200 -\n127.0.0.1 - - [05/Apr/2022 19:29:28] \"POST /_dash-update-component HTTP/1.1\" 200 -\n127.0.0.1 - - [05/Apr/2022 19:29:32] \"POST /_dash-update-component HTTP/1.1\" 200 -\n127.0.0.1 - - [05/Apr/2022 19:29:33] \"POST /_dash-update-component HTTP/1.1\" 200 -\n127.0.0.1 - - [05/Apr/2022 19:29:36] \"POST /_dash-update-component HTTP/1.1\" 200 -\n127.0.0.1 - - [05/Apr/2022 19:29:37] \"POST /_dash-update-component HTTP/1.1\" 200 -\n127.0.0.1 - - [05/Apr/2022 19:29:45] \"POST /_dash-update-component HTTP/1.1\" 200 -\n127.0.0.1 - - [05/Apr/2022 19:29:45] \"POST /_dash-update-component HTTP/1.1\" 200 -\n127.0.0.1 - - [05/Apr/2022 19:29:48] \"POST /_dash-update-component HTTP/1.1\" 200 -\n127.0.0.1 - - [05/Apr/2022 19:29:51] \"POST /_dash-update-component HTTP/1.1\" 200 -\n"
                }
            ],
            "source": "# Run the app\nif __name__ == '__main__':\n    app.run_server()"
        },
        {
            "cell_type": "code",
            "execution_count": null,
            "id": "96ae9a72",
            "metadata": {},
            "outputs": [],
            "source": ""
        },
        {
            "cell_type": "code",
            "execution_count": null,
            "id": "57fd28ef",
            "metadata": {},
            "outputs": [],
            "source": ""
        }
    ],
    "metadata": {
        "kernelspec": {
            "display_name": "Python 3 (ipykernel)",
            "language": "python",
            "name": "python3"
        },
        "language_info": {
            "codemirror_mode": {
                "name": "ipython",
                "version": 3
            },
            "file_extension": ".py",
            "mimetype": "text/x-python",
            "name": "python",
            "nbconvert_exporter": "python",
            "pygments_lexer": "ipython3",
            "version": "3.9.7"
        }
    },
    "nbformat": 4,
    "nbformat_minor": 5
}